{
  "nbformat": 4,
  "nbformat_minor": 0,
  "metadata": {
    "colab": {
      "name": "01 - Articles Extractor.ipynb",
      "provenance": [],
      "collapsed_sections": [],
      "authorship_tag": "ABX9TyMh27AxN36G5XyUKPeGaSzl",
      "include_colab_link": true
    },
    "kernelspec": {
      "name": "python3",
      "display_name": "Python 3"
    }
  },
  "cells": [
    {
      "cell_type": "markdown",
      "metadata": {
        "id": "view-in-github",
        "colab_type": "text"
      },
      "source": [
        "<a href=\"https://colab.research.google.com/github/loureiro85/python_env_setup/blob/master/cdi_index_extractor.ipynb\" target=\"_parent\"><img src=\"https://colab.research.google.com/assets/colab-badge.svg\" alt=\"Open In Colab\"/></a>"
      ]
    },
    {
      "cell_type": "code",
      "metadata": {
        "id": "WSAAv30Dzljc"
      },
      "source": [
        "!pip install -q yahooquery"
      ],
      "execution_count": 1,
      "outputs": []
    },
    {
      "cell_type": "code",
      "metadata": {
        "id": "7fIDG-atlglc"
      },
      "source": [
        "import numpy as np\n",
        "import pandas as pd\n",
        "import seaborn as sns"
      ],
      "execution_count": 2,
      "outputs": []
    },
    {
      "cell_type": "code",
      "metadata": {
        "id": "qBiXiS8ZzrNH"
      },
      "source": [
        "from yahooquery import Ticker"
      ],
      "execution_count": 3,
      "outputs": []
    },
    {
      "cell_type": "code",
      "metadata": {
        "id": "Plf7OEkdq74R"
      },
      "source": [
        "CDI_TABLE_URL = 'https://blog.nubank.com.br/cdi-2021/'\n",
        "\n",
        "MONTHS = {\n",
        "    'Janeiro': 1,\n",
        "    'Fevereiro': 2,\n",
        "    'Março': 3,\n",
        "    'Abril': 4,\n",
        "    'Maio': 5,\n",
        "    'Junho': 6,\n",
        "    'Julho': 7,\n",
        "    'Agosto': 8,\n",
        "    'Setembro': 9,\n",
        "    'Outubro': 10,\n",
        "    'Novembro': 11,\n",
        "    'Dezembro': 12,\n",
        "}"
      ],
      "execution_count": 4,
      "outputs": []
    },
    {
      "cell_type": "code",
      "metadata": {
        "id": "pZfDNhd4m76I",
        "outputId": "7496a9d0-7f05-45d4-9fbd-9fc70aeadd50",
        "colab": {
          "base_uri": "https://localhost:8080/",
          "height": 457
        }
      },
      "source": [
        "df = pd.read_html(\n",
        "    io=CDI_TABLE_URL, \n",
        "    header=0, \n",
        "    index_col=0,\n",
        "    decimal=','\n",
        "    )[2]\n",
        "df.drop('Acumulado do ano', inplace=True)\n",
        "df = df.replace({\n",
        "    '%': '', \n",
        "    ',': '.',\n",
        "    '–': np.nan\n",
        "    }, \n",
        "    regex=True)\n",
        "df = df.astype(float)\n",
        "df"
      ],
      "execution_count": 5,
      "outputs": [
        {
          "output_type": "execute_result",
          "data": {
            "text/html": [
              "<div>\n",
              "<style scoped>\n",
              "    .dataframe tbody tr th:only-of-type {\n",
              "        vertical-align: middle;\n",
              "    }\n",
              "\n",
              "    .dataframe tbody tr th {\n",
              "        vertical-align: top;\n",
              "    }\n",
              "\n",
              "    .dataframe thead th {\n",
              "        text-align: right;\n",
              "    }\n",
              "</style>\n",
              "<table border=\"1\" class=\"dataframe\">\n",
              "  <thead>\n",
              "    <tr style=\"text-align: right;\">\n",
              "      <th></th>\n",
              "      <th>2021</th>\n",
              "      <th>2020</th>\n",
              "      <th>2019</th>\n",
              "      <th>2018</th>\n",
              "      <th>2017</th>\n",
              "      <th>2016</th>\n",
              "      <th>2015</th>\n",
              "    </tr>\n",
              "    <tr>\n",
              "      <th>Mês/Ano</th>\n",
              "      <th></th>\n",
              "      <th></th>\n",
              "      <th></th>\n",
              "      <th></th>\n",
              "      <th></th>\n",
              "      <th></th>\n",
              "      <th></th>\n",
              "    </tr>\n",
              "  </thead>\n",
              "  <tbody>\n",
              "    <tr>\n",
              "      <th>Janeiro</th>\n",
              "      <td>0.15</td>\n",
              "      <td>0.38</td>\n",
              "      <td>0.54</td>\n",
              "      <td>0.58</td>\n",
              "      <td>1.08</td>\n",
              "      <td>1.05</td>\n",
              "      <td>0.93</td>\n",
              "    </tr>\n",
              "    <tr>\n",
              "      <th>Fevereiro</th>\n",
              "      <td>0.13</td>\n",
              "      <td>0.29</td>\n",
              "      <td>0.49</td>\n",
              "      <td>0.46</td>\n",
              "      <td>0.86</td>\n",
              "      <td>1.00</td>\n",
              "      <td>0.82</td>\n",
              "    </tr>\n",
              "    <tr>\n",
              "      <th>Março</th>\n",
              "      <td>0.20</td>\n",
              "      <td>0.34</td>\n",
              "      <td>0.47</td>\n",
              "      <td>0.53</td>\n",
              "      <td>1.05</td>\n",
              "      <td>1.16</td>\n",
              "      <td>1.04</td>\n",
              "    </tr>\n",
              "    <tr>\n",
              "      <th>Abril</th>\n",
              "      <td>0.21</td>\n",
              "      <td>0.28</td>\n",
              "      <td>0.52</td>\n",
              "      <td>0.52</td>\n",
              "      <td>0.79</td>\n",
              "      <td>1.05</td>\n",
              "      <td>0.95</td>\n",
              "    </tr>\n",
              "    <tr>\n",
              "      <th>Maio</th>\n",
              "      <td>0.27</td>\n",
              "      <td>0.24</td>\n",
              "      <td>0.54</td>\n",
              "      <td>0.52</td>\n",
              "      <td>0.93</td>\n",
              "      <td>1.11</td>\n",
              "      <td>0.98</td>\n",
              "    </tr>\n",
              "    <tr>\n",
              "      <th>Junho</th>\n",
              "      <td>0.31</td>\n",
              "      <td>0.21</td>\n",
              "      <td>0.47</td>\n",
              "      <td>0.52</td>\n",
              "      <td>0.81</td>\n",
              "      <td>1.16</td>\n",
              "      <td>1.07</td>\n",
              "    </tr>\n",
              "    <tr>\n",
              "      <th>Julho</th>\n",
              "      <td>NaN</td>\n",
              "      <td>0.19</td>\n",
              "      <td>0.57</td>\n",
              "      <td>0.54</td>\n",
              "      <td>0.80</td>\n",
              "      <td>1.11</td>\n",
              "      <td>1.18</td>\n",
              "    </tr>\n",
              "    <tr>\n",
              "      <th>Agosto</th>\n",
              "      <td>NaN</td>\n",
              "      <td>0.16</td>\n",
              "      <td>0.50</td>\n",
              "      <td>0.57</td>\n",
              "      <td>0.80</td>\n",
              "      <td>1.21</td>\n",
              "      <td>1.11</td>\n",
              "    </tr>\n",
              "    <tr>\n",
              "      <th>Setembro</th>\n",
              "      <td>NaN</td>\n",
              "      <td>0.16</td>\n",
              "      <td>0.46</td>\n",
              "      <td>0.47</td>\n",
              "      <td>0.64</td>\n",
              "      <td>1.11</td>\n",
              "      <td>1.11</td>\n",
              "    </tr>\n",
              "    <tr>\n",
              "      <th>Outubro</th>\n",
              "      <td>NaN</td>\n",
              "      <td>0.16</td>\n",
              "      <td>0.48</td>\n",
              "      <td>0.54</td>\n",
              "      <td>0.64</td>\n",
              "      <td>1.05</td>\n",
              "      <td>1.11</td>\n",
              "    </tr>\n",
              "    <tr>\n",
              "      <th>Novembro</th>\n",
              "      <td>NaN</td>\n",
              "      <td>0.15</td>\n",
              "      <td>0.38</td>\n",
              "      <td>0.49</td>\n",
              "      <td>0.57</td>\n",
              "      <td>1.04</td>\n",
              "      <td>1.06</td>\n",
              "    </tr>\n",
              "    <tr>\n",
              "      <th>Dezembro</th>\n",
              "      <td>NaN</td>\n",
              "      <td>0.16</td>\n",
              "      <td>0.37</td>\n",
              "      <td>0.49</td>\n",
              "      <td>0.54</td>\n",
              "      <td>1.12</td>\n",
              "      <td>1.16</td>\n",
              "    </tr>\n",
              "  </tbody>\n",
              "</table>\n",
              "</div>"
            ],
            "text/plain": [
              "           2021  2020  2019  2018  2017  2016  2015\n",
              "Mês/Ano                                            \n",
              "Janeiro    0.15  0.38  0.54  0.58  1.08  1.05  0.93\n",
              "Fevereiro  0.13  0.29  0.49  0.46  0.86  1.00  0.82\n",
              "Março      0.20  0.34  0.47  0.53  1.05  1.16  1.04\n",
              "Abril      0.21  0.28  0.52  0.52  0.79  1.05  0.95\n",
              "Maio       0.27  0.24  0.54  0.52  0.93  1.11  0.98\n",
              "Junho      0.31  0.21  0.47  0.52  0.81  1.16  1.07\n",
              "Julho       NaN  0.19  0.57  0.54  0.80  1.11  1.18\n",
              "Agosto      NaN  0.16  0.50  0.57  0.80  1.21  1.11\n",
              "Setembro    NaN  0.16  0.46  0.47  0.64  1.11  1.11\n",
              "Outubro     NaN  0.16  0.48  0.54  0.64  1.05  1.11\n",
              "Novembro    NaN  0.15  0.38  0.49  0.57  1.04  1.06\n",
              "Dezembro    NaN  0.16  0.37  0.49  0.54  1.12  1.16"
            ]
          },
          "metadata": {
            "tags": []
          },
          "execution_count": 5
        }
      ]
    },
    {
      "cell_type": "code",
      "metadata": {
        "id": "8yCTgqrQoauf",
        "outputId": "1384975c-a739-4ccd-82f2-6089b790689c",
        "colab": {
          "base_uri": "https://localhost:8080/",
          "height": 455
        }
      },
      "source": [
        "# Stack data\n",
        "df_cdi = (df\n",
        "    .stack()\n",
        "    .reset_index()\n",
        "    .rename(columns={\n",
        "        'Mês/Ano': 'month', \n",
        "        'level_1': 'year', \n",
        "        0: 'cdi_month'\n",
        "    }))\n",
        "\n",
        "df_cdi = df_cdi.replace({'month': MONTHS})\n",
        "df_cdi = df_cdi.reindex(columns=['year', 'month', 'cdi_month'])\n",
        "df_cdi = df_cdi.sort_values(['year', 'month'], ascending=True)\n",
        "\n",
        "# Convert to date\n",
        "df_cdi['date'] = pd.to_datetime(\n",
        "    df_cdi['year'].astype(str) \n",
        "    + '-' \n",
        "    + df_cdi['month'].astype(str)\n",
        "    )\n",
        "df_cdi = df_cdi.drop(columns=['year', 'month'])\n",
        "# df_cdi = df_cdi.reset_index().drop(columns='index')\n",
        "df_cdi = df_cdi.set_index('date')\n",
        "df_cdi['cdi_cum'] = df_cdi['cdi_month'].cumsum()\n",
        "df_cdi"
      ],
      "execution_count": 6,
      "outputs": [
        {
          "output_type": "execute_result",
          "data": {
            "text/html": [
              "<div>\n",
              "<style scoped>\n",
              "    .dataframe tbody tr th:only-of-type {\n",
              "        vertical-align: middle;\n",
              "    }\n",
              "\n",
              "    .dataframe tbody tr th {\n",
              "        vertical-align: top;\n",
              "    }\n",
              "\n",
              "    .dataframe thead th {\n",
              "        text-align: right;\n",
              "    }\n",
              "</style>\n",
              "<table border=\"1\" class=\"dataframe\">\n",
              "  <thead>\n",
              "    <tr style=\"text-align: right;\">\n",
              "      <th></th>\n",
              "      <th>cdi_month</th>\n",
              "      <th>cdi_cum</th>\n",
              "    </tr>\n",
              "    <tr>\n",
              "      <th>date</th>\n",
              "      <th></th>\n",
              "      <th></th>\n",
              "    </tr>\n",
              "  </thead>\n",
              "  <tbody>\n",
              "    <tr>\n",
              "      <th>2015-01-01</th>\n",
              "      <td>0.93</td>\n",
              "      <td>0.93</td>\n",
              "    </tr>\n",
              "    <tr>\n",
              "      <th>2015-02-01</th>\n",
              "      <td>0.82</td>\n",
              "      <td>1.75</td>\n",
              "    </tr>\n",
              "    <tr>\n",
              "      <th>2015-03-01</th>\n",
              "      <td>1.04</td>\n",
              "      <td>2.79</td>\n",
              "    </tr>\n",
              "    <tr>\n",
              "      <th>2015-04-01</th>\n",
              "      <td>0.95</td>\n",
              "      <td>3.74</td>\n",
              "    </tr>\n",
              "    <tr>\n",
              "      <th>2015-05-01</th>\n",
              "      <td>0.98</td>\n",
              "      <td>4.72</td>\n",
              "    </tr>\n",
              "    <tr>\n",
              "      <th>...</th>\n",
              "      <td>...</td>\n",
              "      <td>...</td>\n",
              "    </tr>\n",
              "    <tr>\n",
              "      <th>2021-02-01</th>\n",
              "      <td>0.13</td>\n",
              "      <td>50.22</td>\n",
              "    </tr>\n",
              "    <tr>\n",
              "      <th>2021-03-01</th>\n",
              "      <td>0.20</td>\n",
              "      <td>50.42</td>\n",
              "    </tr>\n",
              "    <tr>\n",
              "      <th>2021-04-01</th>\n",
              "      <td>0.21</td>\n",
              "      <td>50.63</td>\n",
              "    </tr>\n",
              "    <tr>\n",
              "      <th>2021-05-01</th>\n",
              "      <td>0.27</td>\n",
              "      <td>50.90</td>\n",
              "    </tr>\n",
              "    <tr>\n",
              "      <th>2021-06-01</th>\n",
              "      <td>0.31</td>\n",
              "      <td>51.21</td>\n",
              "    </tr>\n",
              "  </tbody>\n",
              "</table>\n",
              "<p>78 rows × 2 columns</p>\n",
              "</div>"
            ],
            "text/plain": [
              "            cdi_month  cdi_cum\n",
              "date                          \n",
              "2015-01-01       0.93     0.93\n",
              "2015-02-01       0.82     1.75\n",
              "2015-03-01       1.04     2.79\n",
              "2015-04-01       0.95     3.74\n",
              "2015-05-01       0.98     4.72\n",
              "...               ...      ...\n",
              "2021-02-01       0.13    50.22\n",
              "2021-03-01       0.20    50.42\n",
              "2021-04-01       0.21    50.63\n",
              "2021-05-01       0.27    50.90\n",
              "2021-06-01       0.31    51.21\n",
              "\n",
              "[78 rows x 2 columns]"
            ]
          },
          "metadata": {
            "tags": []
          },
          "execution_count": 6
        }
      ]
    },
    {
      "cell_type": "code",
      "metadata": {
        "id": "Tcb5kOcqMOVb",
        "outputId": "4dcda00d-3e33-441e-87d4-71c282c0c83f",
        "colab": {
          "base_uri": "https://localhost:8080/",
          "height": 455
        }
      },
      "source": [
        "df_cdi_month = df_cdi.resample('M').mean()\n",
        "df_cdi_month"
      ],
      "execution_count": 74,
      "outputs": [
        {
          "output_type": "execute_result",
          "data": {
            "text/html": [
              "<div>\n",
              "<style scoped>\n",
              "    .dataframe tbody tr th:only-of-type {\n",
              "        vertical-align: middle;\n",
              "    }\n",
              "\n",
              "    .dataframe tbody tr th {\n",
              "        vertical-align: top;\n",
              "    }\n",
              "\n",
              "    .dataframe thead th {\n",
              "        text-align: right;\n",
              "    }\n",
              "</style>\n",
              "<table border=\"1\" class=\"dataframe\">\n",
              "  <thead>\n",
              "    <tr style=\"text-align: right;\">\n",
              "      <th></th>\n",
              "      <th>cdi_month</th>\n",
              "      <th>cdi_cum</th>\n",
              "    </tr>\n",
              "    <tr>\n",
              "      <th>date</th>\n",
              "      <th></th>\n",
              "      <th></th>\n",
              "    </tr>\n",
              "  </thead>\n",
              "  <tbody>\n",
              "    <tr>\n",
              "      <th>2015-01-31</th>\n",
              "      <td>0.93</td>\n",
              "      <td>0.93</td>\n",
              "    </tr>\n",
              "    <tr>\n",
              "      <th>2015-02-28</th>\n",
              "      <td>0.82</td>\n",
              "      <td>1.75</td>\n",
              "    </tr>\n",
              "    <tr>\n",
              "      <th>2015-03-31</th>\n",
              "      <td>1.04</td>\n",
              "      <td>2.79</td>\n",
              "    </tr>\n",
              "    <tr>\n",
              "      <th>2015-04-30</th>\n",
              "      <td>0.95</td>\n",
              "      <td>3.74</td>\n",
              "    </tr>\n",
              "    <tr>\n",
              "      <th>2015-05-31</th>\n",
              "      <td>0.98</td>\n",
              "      <td>4.72</td>\n",
              "    </tr>\n",
              "    <tr>\n",
              "      <th>...</th>\n",
              "      <td>...</td>\n",
              "      <td>...</td>\n",
              "    </tr>\n",
              "    <tr>\n",
              "      <th>2021-02-28</th>\n",
              "      <td>0.13</td>\n",
              "      <td>50.22</td>\n",
              "    </tr>\n",
              "    <tr>\n",
              "      <th>2021-03-31</th>\n",
              "      <td>0.20</td>\n",
              "      <td>50.42</td>\n",
              "    </tr>\n",
              "    <tr>\n",
              "      <th>2021-04-30</th>\n",
              "      <td>0.21</td>\n",
              "      <td>50.63</td>\n",
              "    </tr>\n",
              "    <tr>\n",
              "      <th>2021-05-31</th>\n",
              "      <td>0.27</td>\n",
              "      <td>50.90</td>\n",
              "    </tr>\n",
              "    <tr>\n",
              "      <th>2021-06-30</th>\n",
              "      <td>0.31</td>\n",
              "      <td>51.21</td>\n",
              "    </tr>\n",
              "  </tbody>\n",
              "</table>\n",
              "<p>78 rows × 2 columns</p>\n",
              "</div>"
            ],
            "text/plain": [
              "            cdi_month  cdi_cum\n",
              "date                          \n",
              "2015-01-31       0.93     0.93\n",
              "2015-02-28       0.82     1.75\n",
              "2015-03-31       1.04     2.79\n",
              "2015-04-30       0.95     3.74\n",
              "2015-05-31       0.98     4.72\n",
              "...               ...      ...\n",
              "2021-02-28       0.13    50.22\n",
              "2021-03-31       0.20    50.42\n",
              "2021-04-30       0.21    50.63\n",
              "2021-05-31       0.27    50.90\n",
              "2021-06-30       0.31    51.21\n",
              "\n",
              "[78 rows x 2 columns]"
            ]
          },
          "metadata": {
            "tags": []
          },
          "execution_count": 74
        }
      ]
    },
    {
      "cell_type": "markdown",
      "metadata": {
        "id": "kz2drXRGzeX0"
      },
      "source": [
        "# Get stock values"
      ]
    },
    {
      "cell_type": "code",
      "metadata": {
        "id": "SsVJH89sswQH",
        "outputId": "67fced3a-1a80-44eb-a2bf-43b9aa84261c",
        "colab": {
          "base_uri": "https://localhost:8080/",
          "height": 455
        }
      },
      "source": [
        "STOCKS = [\n",
        "    'BOVA11.SA',\n",
        "    'ITUB4.SA',\n",
        "    'PETR4.SA',\n",
        "    'BBDC4.SA',\n",
        "    # 'PETR3.SA',\n",
        "    # 'VALE3.SA',\n",
        "    # 'B3SA3.SA',\n",
        "    # 'ABEV3.SA',\n",
        "    # 'MGLU3.SA',\n",
        "    # 'ITSA4.SA',\n",
        "    # 'WEGE3.SA',\n",
        "    ]\n",
        " \n",
        "stock = Ticker(STOCKS)\n",
        "df_stock_raw = stock.history(period='5y', interval='1d')\n",
        "df_stock_raw = df_stock_raw.reset_index()\n",
        "df_stock_raw['date'] = pd.to_datetime(df_stock_raw['date'])\n",
        "df_stock = df_stock_raw.pivot(index='date', values='close', columns='symbol').dropna(how='all')\n",
        "df_stock"
      ],
      "execution_count": 75,
      "outputs": [
        {
          "output_type": "execute_result",
          "data": {
            "text/html": [
              "<div>\n",
              "<style scoped>\n",
              "    .dataframe tbody tr th:only-of-type {\n",
              "        vertical-align: middle;\n",
              "    }\n",
              "\n",
              "    .dataframe tbody tr th {\n",
              "        vertical-align: top;\n",
              "    }\n",
              "\n",
              "    .dataframe thead th {\n",
              "        text-align: right;\n",
              "    }\n",
              "</style>\n",
              "<table border=\"1\" class=\"dataframe\">\n",
              "  <thead>\n",
              "    <tr style=\"text-align: right;\">\n",
              "      <th>symbol</th>\n",
              "      <th>BBDC4.SA</th>\n",
              "      <th>BOVA11.SA</th>\n",
              "      <th>ITUB4.SA</th>\n",
              "      <th>PETR4.SA</th>\n",
              "    </tr>\n",
              "    <tr>\n",
              "      <th>date</th>\n",
              "      <th></th>\n",
              "      <th></th>\n",
              "      <th></th>\n",
              "      <th></th>\n",
              "    </tr>\n",
              "  </thead>\n",
              "  <tbody>\n",
              "    <tr>\n",
              "      <th>2016-07-18</th>\n",
              "      <td>18.087902</td>\n",
              "      <td>54.880001</td>\n",
              "      <td>20.624243</td>\n",
              "      <td>11.55</td>\n",
              "    </tr>\n",
              "    <tr>\n",
              "      <th>2016-07-19</th>\n",
              "      <td>18.019033</td>\n",
              "      <td>55.049999</td>\n",
              "      <td>20.503031</td>\n",
              "      <td>11.78</td>\n",
              "    </tr>\n",
              "    <tr>\n",
              "      <th>2016-07-20</th>\n",
              "      <td>18.175556</td>\n",
              "      <td>54.970001</td>\n",
              "      <td>20.824242</td>\n",
              "      <td>11.82</td>\n",
              "    </tr>\n",
              "    <tr>\n",
              "      <th>2016-07-21</th>\n",
              "      <td>18.037815</td>\n",
              "      <td>54.930000</td>\n",
              "      <td>20.545454</td>\n",
              "      <td>11.85</td>\n",
              "    </tr>\n",
              "    <tr>\n",
              "      <th>2016-07-22</th>\n",
              "      <td>18.156775</td>\n",
              "      <td>55.049999</td>\n",
              "      <td>20.672728</td>\n",
              "      <td>11.94</td>\n",
              "    </tr>\n",
              "    <tr>\n",
              "      <th>...</th>\n",
              "      <td>...</td>\n",
              "      <td>...</td>\n",
              "      <td>...</td>\n",
              "      <td>...</td>\n",
              "    </tr>\n",
              "    <tr>\n",
              "      <th>2021-07-12</th>\n",
              "      <td>25.209999</td>\n",
              "      <td>NaN</td>\n",
              "      <td>29.690001</td>\n",
              "      <td>27.73</td>\n",
              "    </tr>\n",
              "    <tr>\n",
              "      <th>2021-07-13</th>\n",
              "      <td>25.190001</td>\n",
              "      <td>123.320000</td>\n",
              "      <td>29.870001</td>\n",
              "      <td>27.90</td>\n",
              "    </tr>\n",
              "    <tr>\n",
              "      <th>2021-07-14</th>\n",
              "      <td>25.299999</td>\n",
              "      <td>123.470001</td>\n",
              "      <td>29.910000</td>\n",
              "      <td>27.67</td>\n",
              "    </tr>\n",
              "    <tr>\n",
              "      <th>2021-07-15</th>\n",
              "      <td>24.920000</td>\n",
              "      <td>122.800003</td>\n",
              "      <td>29.549999</td>\n",
              "      <td>27.08</td>\n",
              "    </tr>\n",
              "    <tr>\n",
              "      <th>2021-07-16</th>\n",
              "      <td>24.370001</td>\n",
              "      <td>121.150002</td>\n",
              "      <td>29.070000</td>\n",
              "      <td>26.68</td>\n",
              "    </tr>\n",
              "  </tbody>\n",
              "</table>\n",
              "<p>1240 rows × 4 columns</p>\n",
              "</div>"
            ],
            "text/plain": [
              "symbol       BBDC4.SA   BOVA11.SA   ITUB4.SA  PETR4.SA\n",
              "date                                                  \n",
              "2016-07-18  18.087902   54.880001  20.624243     11.55\n",
              "2016-07-19  18.019033   55.049999  20.503031     11.78\n",
              "2016-07-20  18.175556   54.970001  20.824242     11.82\n",
              "2016-07-21  18.037815   54.930000  20.545454     11.85\n",
              "2016-07-22  18.156775   55.049999  20.672728     11.94\n",
              "...               ...         ...        ...       ...\n",
              "2021-07-12  25.209999         NaN  29.690001     27.73\n",
              "2021-07-13  25.190001  123.320000  29.870001     27.90\n",
              "2021-07-14  25.299999  123.470001  29.910000     27.67\n",
              "2021-07-15  24.920000  122.800003  29.549999     27.08\n",
              "2021-07-16  24.370001  121.150002  29.070000     26.68\n",
              "\n",
              "[1240 rows x 4 columns]"
            ]
          },
          "metadata": {
            "tags": []
          },
          "execution_count": 75
        }
      ]
    },
    {
      "cell_type": "code",
      "metadata": {
        "id": "JD_NxYAuM7fF",
        "outputId": "d1acbb82-56b4-4f66-9227-ec2a2cce4af5",
        "colab": {
          "base_uri": "https://localhost:8080/",
          "height": 455
        }
      },
      "source": [
        "df_stock_month = df_stock.resample('M').mean()\n",
        "df_stock_month"
      ],
      "execution_count": 81,
      "outputs": [
        {
          "output_type": "execute_result",
          "data": {
            "text/html": [
              "<div>\n",
              "<style scoped>\n",
              "    .dataframe tbody tr th:only-of-type {\n",
              "        vertical-align: middle;\n",
              "    }\n",
              "\n",
              "    .dataframe tbody tr th {\n",
              "        vertical-align: top;\n",
              "    }\n",
              "\n",
              "    .dataframe thead th {\n",
              "        text-align: right;\n",
              "    }\n",
              "</style>\n",
              "<table border=\"1\" class=\"dataframe\">\n",
              "  <thead>\n",
              "    <tr style=\"text-align: right;\">\n",
              "      <th>symbol</th>\n",
              "      <th>BBDC4.SA</th>\n",
              "      <th>BOVA11.SA</th>\n",
              "      <th>ITUB4.SA</th>\n",
              "      <th>PETR4.SA</th>\n",
              "    </tr>\n",
              "    <tr>\n",
              "      <th>date</th>\n",
              "      <th></th>\n",
              "      <th></th>\n",
              "      <th></th>\n",
              "      <th></th>\n",
              "    </tr>\n",
              "  </thead>\n",
              "  <tbody>\n",
              "    <tr>\n",
              "      <th>2016-07-31</th>\n",
              "      <td>17.952667</td>\n",
              "      <td>55.081000</td>\n",
              "      <td>20.486060</td>\n",
              "      <td>11.767000</td>\n",
              "    </tr>\n",
              "    <tr>\n",
              "      <th>2016-08-31</th>\n",
              "      <td>18.083820</td>\n",
              "      <td>56.199565</td>\n",
              "      <td>21.558893</td>\n",
              "      <td>12.267826</td>\n",
              "    </tr>\n",
              "    <tr>\n",
              "      <th>2016-09-30</th>\n",
              "      <td>18.253968</td>\n",
              "      <td>56.603333</td>\n",
              "      <td>21.743145</td>\n",
              "      <td>13.529524</td>\n",
              "    </tr>\n",
              "    <tr>\n",
              "      <th>2016-10-31</th>\n",
              "      <td>19.733909</td>\n",
              "      <td>60.490000</td>\n",
              "      <td>23.705909</td>\n",
              "      <td>16.593500</td>\n",
              "    </tr>\n",
              "    <tr>\n",
              "      <th>2016-11-30</th>\n",
              "      <td>18.943150</td>\n",
              "      <td>59.704000</td>\n",
              "      <td>23.902333</td>\n",
              "      <td>15.565000</td>\n",
              "    </tr>\n",
              "    <tr>\n",
              "      <th>...</th>\n",
              "      <td>...</td>\n",
              "      <td>...</td>\n",
              "      <td>...</td>\n",
              "      <td>...</td>\n",
              "    </tr>\n",
              "    <tr>\n",
              "      <th>2021-03-31</th>\n",
              "      <td>23.060474</td>\n",
              "      <td>109.537431</td>\n",
              "      <td>27.331304</td>\n",
              "      <td>22.916957</td>\n",
              "    </tr>\n",
              "    <tr>\n",
              "      <th>2021-04-30</th>\n",
              "      <td>23.450045</td>\n",
              "      <td>114.695573</td>\n",
              "      <td>27.361000</td>\n",
              "      <td>23.755500</td>\n",
              "    </tr>\n",
              "    <tr>\n",
              "      <th>2021-05-31</th>\n",
              "      <td>25.153809</td>\n",
              "      <td>117.557143</td>\n",
              "      <td>28.561428</td>\n",
              "      <td>25.384762</td>\n",
              "    </tr>\n",
              "    <tr>\n",
              "      <th>2021-06-30</th>\n",
              "      <td>27.492857</td>\n",
              "      <td>123.998571</td>\n",
              "      <td>32.026667</td>\n",
              "      <td>28.745238</td>\n",
              "    </tr>\n",
              "    <tr>\n",
              "      <th>2021-07-31</th>\n",
              "      <td>25.052727</td>\n",
              "      <td>121.946001</td>\n",
              "      <td>29.628182</td>\n",
              "      <td>27.941818</td>\n",
              "    </tr>\n",
              "  </tbody>\n",
              "</table>\n",
              "<p>61 rows × 4 columns</p>\n",
              "</div>"
            ],
            "text/plain": [
              "symbol       BBDC4.SA   BOVA11.SA   ITUB4.SA   PETR4.SA\n",
              "date                                                   \n",
              "2016-07-31  17.952667   55.081000  20.486060  11.767000\n",
              "2016-08-31  18.083820   56.199565  21.558893  12.267826\n",
              "2016-09-30  18.253968   56.603333  21.743145  13.529524\n",
              "2016-10-31  19.733909   60.490000  23.705909  16.593500\n",
              "2016-11-30  18.943150   59.704000  23.902333  15.565000\n",
              "...               ...         ...        ...        ...\n",
              "2021-03-31  23.060474  109.537431  27.331304  22.916957\n",
              "2021-04-30  23.450045  114.695573  27.361000  23.755500\n",
              "2021-05-31  25.153809  117.557143  28.561428  25.384762\n",
              "2021-06-30  27.492857  123.998571  32.026667  28.745238\n",
              "2021-07-31  25.052727  121.946001  29.628182  27.941818\n",
              "\n",
              "[61 rows x 4 columns]"
            ]
          },
          "metadata": {
            "tags": []
          },
          "execution_count": 81
        }
      ]
    },
    {
      "cell_type": "code",
      "metadata": {
        "id": "MUo4YTbJ-L_A",
        "outputId": "f3cb2cb7-559a-446f-df85-d13bc6d7bbbd",
        "colab": {
          "base_uri": "https://localhost:8080/"
        }
      },
      "source": [
        "DATE_BUY = '2019-01'\n",
        "DATE_SELL = '2021-06'\n",
        "\n",
        "df_stock_month = df_stock.resample('M').mean()\n",
        "\n",
        "df_stock_delta = df_stock_month.loc[DATE_SELL].iloc[0] - df_stock_month.loc[DATE_BUY].iloc[0]\n",
        "df_stock_delta\n",
        "\n",
        "df_cdi_delta = df_cdi_month['cdi_cum'].loc[DATE_SELL].iloc[0] - df_cdi_month['cdi_cum'].loc[DATE_BUY].iloc[0]\n",
        "df_cdi_delta\n",
        "\n",
        "# Join data\n",
        "df_stock_delta['cdi_cum'] = df_cdi_delta\n",
        "df_stock_delta"
      ],
      "execution_count": 96,
      "outputs": [
        {
          "output_type": "execute_result",
          "data": {
            "text/plain": [
              "symbol\n",
              "BBDC4.SA     -4.414429\n",
              "BOVA11.SA    32.880476\n",
              "ITUB4.SA     -5.567619\n",
              "PETR4.SA      3.637619\n",
              "cdi_cum       9.240000\n",
              "dtype: float64"
            ]
          },
          "metadata": {
            "tags": []
          },
          "execution_count": 96
        }
      ]
    },
    {
      "cell_type": "code",
      "metadata": {
        "id": "lLov7bgw5YMY",
        "outputId": "e54e0c12-b446-41e3-c2f4-9bf667535bc2",
        "colab": {
          "base_uri": "https://localhost:8080/",
          "height": 322
        }
      },
      "source": [
        "df_plot = df_all.loc['2020-01-01':]\n",
        "g = sns.lineplot(data=df_plot);\n",
        "g.set_title('CDI');\n",
        "g.tick_params(axis='x', rotation=45);"
      ],
      "execution_count": 40,
      "outputs": [
        {
          "output_type": "display_data",
          "data": {
            "image/png": "[encoded data removed]",
            "text/plain": [
              "<Figure size 432x288 with 1 Axes>"
            ]
          },
          "metadata": {
            "tags": [],
            "needs_background": "light"
          }
        }
      ]
    },
    {
      "cell_type": "code",
      "metadata": {
        "id": "wGQK7tfO5jqh"
      },
      "source": [
        "df_plot.iloc[1:]"
      ],
      "execution_count": null,
      "outputs": []
    },
    {
      "cell_type": "code",
      "metadata": {
        "id": "jb926n8j7M3R"
      },
      "source": [
        "df_plot / df_plot.iloc[1]"
      ],
      "execution_count": null,
      "outputs": []
    },
    {
      "cell_type": "code",
      "metadata": {
        "id": "I5iKDV0T8rRY",
        "outputId": "e94d7ac2-7ccf-48f1-cdea-ed32231a7ccb",
        "colab": {
          "base_uri": "https://localhost:8080/",
          "height": 455
        }
      },
      "source": [
        "df_temp = df_all / df_all.loc['2020-01']\n",
        "df_temp"
      ],
      "execution_count": 57,
      "outputs": [
        {
          "output_type": "execute_result",
          "data": {
            "text/html": [
              "<div>\n",
              "<style scoped>\n",
              "    .dataframe tbody tr th:only-of-type {\n",
              "        vertical-align: middle;\n",
              "    }\n",
              "\n",
              "    .dataframe tbody tr th {\n",
              "        vertical-align: top;\n",
              "    }\n",
              "\n",
              "    .dataframe thead th {\n",
              "        text-align: right;\n",
              "    }\n",
              "</style>\n",
              "<table border=\"1\" class=\"dataframe\">\n",
              "  <thead>\n",
              "    <tr style=\"text-align: right;\">\n",
              "      <th></th>\n",
              "      <th>BBDC4.SA</th>\n",
              "      <th>BOVA11.SA</th>\n",
              "      <th>ITUB4.SA</th>\n",
              "      <th>PETR4.SA</th>\n",
              "      <th>cdi_cum</th>\n",
              "    </tr>\n",
              "    <tr>\n",
              "      <th>date</th>\n",
              "      <th></th>\n",
              "      <th></th>\n",
              "      <th></th>\n",
              "      <th></th>\n",
              "      <th></th>\n",
              "    </tr>\n",
              "  </thead>\n",
              "  <tbody>\n",
              "    <tr>\n",
              "      <th>2016-07-31</th>\n",
              "      <td>NaN</td>\n",
              "      <td>NaN</td>\n",
              "      <td>NaN</td>\n",
              "      <td>NaN</td>\n",
              "      <td>NaN</td>\n",
              "    </tr>\n",
              "    <tr>\n",
              "      <th>2016-08-31</th>\n",
              "      <td>NaN</td>\n",
              "      <td>NaN</td>\n",
              "      <td>NaN</td>\n",
              "      <td>NaN</td>\n",
              "      <td>NaN</td>\n",
              "    </tr>\n",
              "    <tr>\n",
              "      <th>2016-09-30</th>\n",
              "      <td>NaN</td>\n",
              "      <td>NaN</td>\n",
              "      <td>NaN</td>\n",
              "      <td>NaN</td>\n",
              "      <td>NaN</td>\n",
              "    </tr>\n",
              "    <tr>\n",
              "      <th>2016-10-31</th>\n",
              "      <td>NaN</td>\n",
              "      <td>NaN</td>\n",
              "      <td>NaN</td>\n",
              "      <td>NaN</td>\n",
              "      <td>NaN</td>\n",
              "    </tr>\n",
              "    <tr>\n",
              "      <th>2016-11-30</th>\n",
              "      <td>NaN</td>\n",
              "      <td>NaN</td>\n",
              "      <td>NaN</td>\n",
              "      <td>NaN</td>\n",
              "      <td>NaN</td>\n",
              "    </tr>\n",
              "    <tr>\n",
              "      <th>...</th>\n",
              "      <td>...</td>\n",
              "      <td>...</td>\n",
              "      <td>...</td>\n",
              "      <td>...</td>\n",
              "      <td>...</td>\n",
              "    </tr>\n",
              "    <tr>\n",
              "      <th>2021-03-31</th>\n",
              "      <td>NaN</td>\n",
              "      <td>NaN</td>\n",
              "      <td>NaN</td>\n",
              "      <td>NaN</td>\n",
              "      <td>NaN</td>\n",
              "    </tr>\n",
              "    <tr>\n",
              "      <th>2021-04-30</th>\n",
              "      <td>NaN</td>\n",
              "      <td>NaN</td>\n",
              "      <td>NaN</td>\n",
              "      <td>NaN</td>\n",
              "      <td>NaN</td>\n",
              "    </tr>\n",
              "    <tr>\n",
              "      <th>2021-05-31</th>\n",
              "      <td>NaN</td>\n",
              "      <td>NaN</td>\n",
              "      <td>NaN</td>\n",
              "      <td>NaN</td>\n",
              "      <td>NaN</td>\n",
              "    </tr>\n",
              "    <tr>\n",
              "      <th>2021-06-30</th>\n",
              "      <td>NaN</td>\n",
              "      <td>NaN</td>\n",
              "      <td>NaN</td>\n",
              "      <td>NaN</td>\n",
              "      <td>NaN</td>\n",
              "    </tr>\n",
              "    <tr>\n",
              "      <th>2021-07-31</th>\n",
              "      <td>NaN</td>\n",
              "      <td>NaN</td>\n",
              "      <td>NaN</td>\n",
              "      <td>NaN</td>\n",
              "      <td>NaN</td>\n",
              "    </tr>\n",
              "  </tbody>\n",
              "</table>\n",
              "<p>61 rows × 5 columns</p>\n",
              "</div>"
            ],
            "text/plain": [
              "            BBDC4.SA  BOVA11.SA  ITUB4.SA  PETR4.SA  cdi_cum\n",
              "date                                                        \n",
              "2016-07-31       NaN        NaN       NaN       NaN      NaN\n",
              "2016-08-31       NaN        NaN       NaN       NaN      NaN\n",
              "2016-09-30       NaN        NaN       NaN       NaN      NaN\n",
              "2016-10-31       NaN        NaN       NaN       NaN      NaN\n",
              "2016-11-30       NaN        NaN       NaN       NaN      NaN\n",
              "...              ...        ...       ...       ...      ...\n",
              "2021-03-31       NaN        NaN       NaN       NaN      NaN\n",
              "2021-04-30       NaN        NaN       NaN       NaN      NaN\n",
              "2021-05-31       NaN        NaN       NaN       NaN      NaN\n",
              "2021-06-30       NaN        NaN       NaN       NaN      NaN\n",
              "2021-07-31       NaN        NaN       NaN       NaN      NaN\n",
              "\n",
              "[61 rows x 5 columns]"
            ]
          },
          "metadata": {
            "tags": []
          },
          "execution_count": 57
        }
      ]
    },
    {
      "cell_type": "code",
      "metadata": {
        "id": "VoVKKzRuGz-D",
        "outputId": "b5b919ce-8012-4843-f58a-e09d203f81fc",
        "colab": {
          "base_uri": "https://localhost:8080/",
          "height": 306
        }
      },
      "source": [
        "g = sns.lineplot(data=df_temp);\n",
        "g.tick_params(axis='x', rotation=45);"
      ],
      "execution_count": 48,
      "outputs": [
        {
          "output_type": "display_data",
          "data": {
            "image/png": "[encoded data removed]",
            "text/plain": [
              "<Figure size 432x288 with 1 Axes>"
            ]
          },
          "metadata": {
            "tags": [],
            "needs_background": "light"
          }
        }
      ]
    },
    {
      "cell_type": "code",
      "metadata": {
        "id": "eMegWOhsHUgJ",
        "outputId": "c77c84fe-3c71-4601-d70f-f2e27f4ffde2",
        "colab": {
          "base_uri": "https://localhost:8080/",
          "height": 112
        }
      },
      "source": [
        "buy = df_all.loc['2021-01']\n",
        "buy"
      ],
      "execution_count": 69,
      "outputs": [
        {
          "output_type": "execute_result",
          "data": {
            "text/html": [
              "<div>\n",
              "<style scoped>\n",
              "    .dataframe tbody tr th:only-of-type {\n",
              "        vertical-align: middle;\n",
              "    }\n",
              "\n",
              "    .dataframe tbody tr th {\n",
              "        vertical-align: top;\n",
              "    }\n",
              "\n",
              "    .dataframe thead th {\n",
              "        text-align: right;\n",
              "    }\n",
              "</style>\n",
              "<table border=\"1\" class=\"dataframe\">\n",
              "  <thead>\n",
              "    <tr style=\"text-align: right;\">\n",
              "      <th></th>\n",
              "      <th>BBDC4.SA</th>\n",
              "      <th>BOVA11.SA</th>\n",
              "      <th>ITUB4.SA</th>\n",
              "      <th>PETR4.SA</th>\n",
              "      <th>cdi_cum</th>\n",
              "    </tr>\n",
              "    <tr>\n",
              "      <th>date</th>\n",
              "      <th></th>\n",
              "      <th></th>\n",
              "      <th></th>\n",
              "      <th></th>\n",
              "      <th></th>\n",
              "    </tr>\n",
              "  </thead>\n",
              "  <tbody>\n",
              "    <tr>\n",
              "      <th>2021-01-31</th>\n",
              "      <td>23.893301</td>\n",
              "      <td>115.605263</td>\n",
              "      <td>30.761579</td>\n",
              "      <td>28.833684</td>\n",
              "      <td>50.09</td>\n",
              "    </tr>\n",
              "  </tbody>\n",
              "</table>\n",
              "</div>"
            ],
            "text/plain": [
              "             BBDC4.SA   BOVA11.SA   ITUB4.SA   PETR4.SA  cdi_cum\n",
              "date                                                            \n",
              "2021-01-31  23.893301  115.605263  30.761579  28.833684    50.09"
            ]
          },
          "metadata": {
            "tags": []
          },
          "execution_count": 69
        }
      ]
    },
    {
      "cell_type": "code",
      "metadata": {
        "id": "u-37AHOeHyjF",
        "outputId": "51a950ea-d083-4349-c323-a05f353323c7",
        "colab": {
          "base_uri": "https://localhost:8080/",
          "height": 112
        }
      },
      "source": [
        "sell = df_all.loc['2021-06']\n",
        "sell"
      ],
      "execution_count": 70,
      "outputs": [
        {
          "output_type": "execute_result",
          "data": {
            "text/html": [
              "<div>\n",
              "<style scoped>\n",
              "    .dataframe tbody tr th:only-of-type {\n",
              "        vertical-align: middle;\n",
              "    }\n",
              "\n",
              "    .dataframe tbody tr th {\n",
              "        vertical-align: top;\n",
              "    }\n",
              "\n",
              "    .dataframe thead th {\n",
              "        text-align: right;\n",
              "    }\n",
              "</style>\n",
              "<table border=\"1\" class=\"dataframe\">\n",
              "  <thead>\n",
              "    <tr style=\"text-align: right;\">\n",
              "      <th></th>\n",
              "      <th>BBDC4.SA</th>\n",
              "      <th>BOVA11.SA</th>\n",
              "      <th>ITUB4.SA</th>\n",
              "      <th>PETR4.SA</th>\n",
              "      <th>cdi_cum</th>\n",
              "    </tr>\n",
              "    <tr>\n",
              "      <th>date</th>\n",
              "      <th></th>\n",
              "      <th></th>\n",
              "      <th></th>\n",
              "      <th></th>\n",
              "      <th></th>\n",
              "    </tr>\n",
              "  </thead>\n",
              "  <tbody>\n",
              "    <tr>\n",
              "      <th>2021-06-30</th>\n",
              "      <td>27.492857</td>\n",
              "      <td>123.998571</td>\n",
              "      <td>32.026667</td>\n",
              "      <td>28.745238</td>\n",
              "      <td>51.21</td>\n",
              "    </tr>\n",
              "  </tbody>\n",
              "</table>\n",
              "</div>"
            ],
            "text/plain": [
              "             BBDC4.SA   BOVA11.SA   ITUB4.SA   PETR4.SA  cdi_cum\n",
              "date                                                            \n",
              "2021-06-30  27.492857  123.998571  32.026667  28.745238    51.21"
            ]
          },
          "metadata": {
            "tags": []
          },
          "execution_count": 70
        }
      ]
    },
    {
      "cell_type": "code",
      "metadata": {
        "id": "yVYrsmH_IzzP",
        "outputId": "acb37967-eaf2-4c63-e689-f0721d51a5f6",
        "colab": {
          "base_uri": "https://localhost:8080/"
        }
      },
      "source": [
        "sell.iloc[0] - buy.iloc[0]"
      ],
      "execution_count": 71,
      "outputs": [
        {
          "output_type": "execute_result",
          "data": {
            "text/plain": [
              "BBDC4.SA     3.599556\n",
              "BOVA11.SA    8.393308\n",
              "ITUB4.SA     1.265087\n",
              "PETR4.SA    -0.088446\n",
              "cdi_cum      1.120000\n",
              "dtype: float64"
            ]
          },
          "metadata": {
            "tags": []
          },
          "execution_count": 71
        }
      ]
    },
    {
      "cell_type": "code",
      "metadata": {
        "id": "G33eF7lOJOgr",
        "outputId": "5c7446c1-36eb-43ed-bd2d-3e34b7c7238b",
        "colab": {
          "base_uri": "https://localhost:8080/"
        }
      },
      "source": [
        "new_cdi_cum = sell.iloc[0]['cdi_cum'] - buy.iloc[0]['cdi_cum']\n",
        "new_cdi_cum"
      ],
      "execution_count": 73,
      "outputs": [
        {
          "output_type": "execute_result",
          "data": {
            "text/plain": [
              "1.1200000000000117"
            ]
          },
          "metadata": {
            "tags": []
          },
          "execution_count": 73
        }
      ]
    },
    {
      "cell_type": "code",
      "metadata": {
        "id": "qLqSgpA7KFaQ"
      },
      "source": [
        "df_delta_all = "
      ],
      "execution_count": null,
      "outputs": []
    }
  ]
}